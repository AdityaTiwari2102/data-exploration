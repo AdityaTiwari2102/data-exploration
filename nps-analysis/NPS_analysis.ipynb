{
  "nbformat": 4,
  "nbformat_minor": 0,
  "metadata": {
    "colab": {
      "provenance": [],
      "authorship_tag": "ABX9TyMgDW4mlj9cuM/tCHjabvqX",
      "include_colab_link": true
    },
    "kernelspec": {
      "name": "python3",
      "display_name": "Python 3"
    },
    "language_info": {
      "name": "python"
    }
  },
  "cells": [
    {
      "cell_type": "markdown",
      "metadata": {
        "id": "view-in-github",
        "colab_type": "text"
      },
      "source": [
        "<a href=\"https://colab.research.google.com/github/AdityaTiwari2102/data-exploration/blob/nps-analysis/NPS_analysis.ipynb\" target=\"_parent\"><img src=\"https://colab.research.google.com/assets/colab-badge.svg\" alt=\"Open In Colab\"/></a>"
      ]
    },
    {
      "cell_type": "markdown",
      "source": [
        "## Using numpy analyse the NPS survey ratings"
      ],
      "metadata": {
        "id": "66z9P_Pe7wsd"
      }
    },
    {
      "cell_type": "code",
      "execution_count": 3,
      "metadata": {
        "id": "UreWB4nV7nTr"
      },
      "outputs": [],
      "source": [
        "import numpy as np"
      ]
    },
    {
      "cell_type": "code",
      "source": [
        "# Load the dataset\n",
        "score = np.loadtxt(\"survey.txt\", dtype = \"int\")"
      ],
      "metadata": {
        "id": "oEWTFBGr77W8"
      },
      "execution_count": 4,
      "outputs": []
    },
    {
      "cell_type": "code",
      "source": [
        "print(score)"
      ],
      "metadata": {
        "colab": {
          "base_uri": "https://localhost:8080/"
        },
        "id": "gN8PhViB-cQF",
        "outputId": "2ef33c4e-3ace-482c-aeda-9426c3ec0442"
      },
      "execution_count": 7,
      "outputs": [
        {
          "output_type": "stream",
          "name": "stdout",
          "text": [
            "[ 7 10  5 ...  5  9 10]\n"
          ]
        }
      ]
    },
    {
      "cell_type": "code",
      "source": [
        "# Dimension of the dataset\n",
        "dim = score.ndim"
      ],
      "metadata": {
        "id": "kgOnBiul9xLV"
      },
      "execution_count": 8,
      "outputs": []
    },
    {
      "cell_type": "code",
      "source": [
        "print(dim)"
      ],
      "metadata": {
        "colab": {
          "base_uri": "https://localhost:8080/"
        },
        "id": "te8uOOPS-XlI",
        "outputId": "da3fc70a-13af-49e7-fed8-363f13506498"
      },
      "execution_count": 9,
      "outputs": [
        {
          "output_type": "stream",
          "name": "stdout",
          "text": [
            "1\n"
          ]
        }
      ]
    },
    {
      "cell_type": "code",
      "source": [
        "# Shape of the dataset\n",
        "shape = score.shape"
      ],
      "metadata": {
        "id": "Ult3I80B-1tB"
      },
      "execution_count": 11,
      "outputs": []
    },
    {
      "cell_type": "code",
      "source": [
        "print(shape)"
      ],
      "metadata": {
        "colab": {
          "base_uri": "https://localhost:8080/"
        },
        "id": "JS90POEn-ri_",
        "outputId": "c609aab6-1724-4a8e-f512-f1a55f01f59a"
      },
      "execution_count": 12,
      "outputs": [
        {
          "output_type": "stream",
          "name": "stdout",
          "text": [
            "(1167,)\n"
          ]
        }
      ]
    },
    {
      "cell_type": "code",
      "source": [
        "# Total number of rows can either be found using \"shape\" or \"len\"\n",
        "total_from_shape = shape[0]\n",
        "total_from_len = len(score)\n",
        "total = total_from_len"
      ],
      "metadata": {
        "id": "CcVoJbXq_lo-"
      },
      "execution_count": 47,
      "outputs": []
    },
    {
      "cell_type": "code",
      "source": [
        "print(total_from_shape)\n",
        "print(total_from_len)"
      ],
      "metadata": {
        "colab": {
          "base_uri": "https://localhost:8080/"
        },
        "id": "GspMFDXe_vBf",
        "outputId": "28f4b01e-3180-429b-d5ef-5d638088848f"
      },
      "execution_count": 14,
      "outputs": [
        {
          "output_type": "stream",
          "name": "stdout",
          "text": [
            "1167\n",
            "1167\n"
          ]
        }
      ]
    },
    {
      "cell_type": "code",
      "source": [
        "# Count of each NPS score given by customers\n",
        "freq = {i: np.count_nonzero(score == i) for i in set(score)}"
      ],
      "metadata": {
        "id": "nH3TXyKqIO5E"
      },
      "execution_count": 63,
      "outputs": []
    },
    {
      "cell_type": "code",
      "source": [
        "print(\"Score\", \"Count\")\n",
        "for elem in freq.items():\n",
        "  print(f\"{elem[0]} -> {elem[1]}\")"
      ],
      "metadata": {
        "colab": {
          "base_uri": "https://localhost:8080/"
        },
        "id": "wv-5mBx1M-wF",
        "outputId": "2c6c7741-b383-4e8e-adda-9ad2121163c1"
      },
      "execution_count": 64,
      "outputs": [
        {
          "output_type": "stream",
          "name": "stdout",
          "text": [
            "Score Count\n",
            "1 -> 117\n",
            "4 -> 112\n",
            "5 -> 103\n",
            "7 -> 123\n",
            "8 -> 103\n",
            "9 -> 394\n",
            "10 -> 215\n"
          ]
        }
      ]
    },
    {
      "cell_type": "code",
      "source": [
        "# In NPS, customers are categorized into three groups — promoters, detractors, passives\n",
        "# Detractors -> Score between 0 and 6 (included)\n",
        "# Passives -> Score of 7 and 8\n",
        "# Promoters -> Score of 9 and 10\n",
        "\n",
        "detractors = score[ score < 7 ]\n",
        "promoters = score[ score > 8 ]\n",
        "passives = score[ (score == 7) | (score == 8) ]"
      ],
      "metadata": {
        "id": "gW6rpEp3AyYL"
      },
      "execution_count": 15,
      "outputs": []
    },
    {
      "cell_type": "code",
      "source": [
        "# List all the detractors score\n",
        "# It can be observed that the customers have given rating as either 1, 4, or 5.\n",
        "print(detractors)"
      ],
      "metadata": {
        "colab": {
          "base_uri": "https://localhost:8080/"
        },
        "id": "TRPt45pYCtFE",
        "outputId": "fd4c913d-8c10-4191-cbcb-bbd2fb2c9312"
      },
      "execution_count": 21,
      "outputs": [
        {
          "output_type": "stream",
          "name": "stdout",
          "text": [
            "[5 4 4 5 1 5 5 1 4 5 4 4 4 5 1 4 1 4 1 5 5 1 1 4 1 5 4 1 1 4 1 5 1 4 4 1 1\n",
            " 1 1 1 1 1 4 1 1 5 5 5 4 4 1 4 1 4 1 5 1 1 5 4 4 4 4 1 4 5 4 4 1 1 5 5 1 5\n",
            " 1 5 5 4 5 4 1 1 1 1 4 1 4 4 5 4 1 1 1 1 5 4 5 5 4 1 5 1 4 4 1 1 1 4 4 5 5\n",
            " 4 5 5 5 1 4 1 5 5 1 5 1 1 5 5 4 4 1 4 4 4 1 1 4 4 4 5 5 1 1 4 1 4 1 4 1 4\n",
            " 1 4 1 5 4 4 5 1 4 5 5 5 1 5 4 1 1 5 5 5 4 5 4 4 1 4 4 4 4 5 1 5 5 1 4 4 5\n",
            " 1 1 4 5 5 5 1 4 5 5 4 1 5 5 5 1 1 5 5 1 1 1 4 5 5 4 4 4 5 1 4 1 4 5 4 5 5\n",
            " 1 5 1 5 5 1 4 5 5 4 1 5 1 4 1 4 1 1 1 1 1 1 4 1 5 4 5 1 5 1 5 4 4 4 4 5 5\n",
            " 1 4 1 5 5 1 4 1 1 4 4 4 4 1 4 1 1 4 1 5 4 1 1 5 4 5 4 4 4 1 5 5 1 4 5 4 4\n",
            " 4 1 4 1 4 4 4 5 1 1 1 4 5 5 1 5 4 5 5 4 1 1 5 5 5 1 4 5 4 5 5 5 1 4 1 5]\n"
          ]
        }
      ]
    },
    {
      "cell_type": "code",
      "source": [
        "# List all the promoters score\n",
        "print(promoters)"
      ],
      "metadata": {
        "colab": {
          "base_uri": "https://localhost:8080/"
        },
        "id": "1oYqAwOlC6ZZ",
        "outputId": "c44fea45-dd68-42bb-b39b-a72df38c79fe"
      },
      "execution_count": 18,
      "outputs": [
        {
          "output_type": "stream",
          "name": "stdout",
          "text": [
            "[10  9  9  9  9  9 10  9  9 10  9  9  9  9  9  9  9 10 10  9 10  9 10  9\n",
            "  9 10 10  9 10  9 10 10 10  9  9 10 10 10  9 10  9 10  9  9  9 10  9  9\n",
            "  9  9  9  9 10  9  9  9 10  9 10  9  9  9  9  9 10 10  9 10  9  9 10  9\n",
            "  9 10  9  9  9  9  9  9  9  9  9  9  9 10  9  9  9  9  9  9  9  9 10  9\n",
            "  9  9  9  9 10 10  9 10 10 10 10  9 10  9  9  9  9  9  9  9 10  9 10  9\n",
            " 10  9 10 10 10  9  9 10 10  9  9  9  9 10  9  9  9  9 10 10  9  9  9 10\n",
            "  9  9  9  9  9 10  9  9  9 10  9 10 10  9  9  9  9 10  9 10  9  9  9  9\n",
            " 10  9 10  9  9  9  9  9  9  9  9  9  9  9 10 10  9  9  9 10  9 10 10 10\n",
            " 10 10  9  9  9  9 10 10 10  9  9 10  9 10 10 10 10  9 10 10  9 10  9  9\n",
            "  9  9 10  9 10  9 10  9  9  9  9 10  9  9  9  9  9 10  9 10 10  9 10 10\n",
            " 10  9  9  9  9  9  9 10  9  9 10  9 10 10  9  9  9 10 10 10 10  9  9  9\n",
            " 10 10  9 10  9  9  9 10  9  9  9  9  9  9  9  9  9  9 10  9  9  9 10  9\n",
            " 10  9 10  9 10  9  9 10 10  9  9  9 10  9  9 10  9  9  9  9  9  9 10 10\n",
            "  9 10  9  9  9  9 10  9  9  9  9 10  9 10  9 10  9 10 10  9 10 10  9 10\n",
            "  9  9  9  9  9 10  9 10 10  9 10 10  9  9 10  9 10 10  9 10 10 10  9  9\n",
            "  9 10  9  9  9 10  9  9  9  9  9 10  9  9  9 10  9  9  9  9  9 10  9 10\n",
            "  9  9 10  9  9  9  9  9  9 10  9  9  9  9  9  9  9  9  9  9 10  9 10  9\n",
            "  9  9  9  9  9  9  9  9  9  9  9  9  9 10 10  9  9  9  9 10  9 10  9 10\n",
            " 10  9  9 10  9 10 10 10  9  9  9 10 10  9  9  9 10  9  9  9  9 10  9 10\n",
            "  9  9 10  9  9  9 10  9  9  9  9 10  9  9  9  9  9  9 10  9 10 10  9  9\n",
            "  9 10 10 10 10  9  9 10 10  9 10  9 10  9 10  9  9 10  9 10 10  9  9  9\n",
            "  9  9  9  9  9  9  9  9  9  9  9  9  9  9  9  9  9  9  9  9  9  9  9 10\n",
            " 10  9  9  9  9 10 10  9 10 10  9 10 10  9 10 10 10  9  9 10 10 10  9  9\n",
            " 10 10  9  9  9  9  9  9 10 10 10 10 10 10  9  9  9  9 10 10  9  9  9  9\n",
            "  9 10 10  9 10 10  9 10 10  9 10 10  9 10  9 10 10  9 10 10  9  9  9  9\n",
            " 10  9  9 10 10 10 10  9 10]\n"
          ]
        }
      ]
    },
    {
      "cell_type": "code",
      "source": [
        "# List all the passives score\n",
        "print(passives)"
      ],
      "metadata": {
        "colab": {
          "base_uri": "https://localhost:8080/"
        },
        "id": "eSO6IQVzC7c1",
        "outputId": "7b519e6f-b14d-4ffb-8c7a-734fc85dadc3"
      },
      "execution_count": 19,
      "outputs": [
        {
          "output_type": "stream",
          "name": "stdout",
          "text": [
            "[7 7 7 7 8 8 8 7 7 7 8 8 7 8 8 8 8 7 7 7 8 7 7 7 8 7 8 8 7 8 8 8 7 8 7 8 8\n",
            " 7 8 7 8 7 7 8 8 8 7 7 8 8 8 7 7 7 8 7 7 8 7 7 7 8 7 7 8 8 8 7 7 7 7 7 8 8\n",
            " 7 8 7 8 8 7 8 7 7 8 7 7 7 7 7 8 8 7 7 8 8 8 8 8 7 7 7 8 7 8 8 7 7 8 8 7 7\n",
            " 8 7 7 8 8 8 7 7 8 8 8 8 7 7 7 8 7 7 7 7 8 7 8 7 7 7 8 8 8 7 8 8 8 8 7 8 7\n",
            " 7 7 7 7 8 7 7 7 7 8 7 8 8 7 7 8 8 7 8 8 7 7 7 8 8 7 7 8 7 7 7 8 7 7 7 8 7\n",
            " 7 7 7 7 8 8 7 8 7 7 7 8 8 8 8 8 7 8 7 7 8 7 7 8 7 8 8 7 7 8 8 8 7 8 8 7 7\n",
            " 7 7 7 8]\n"
          ]
        }
      ]
    },
    {
      "cell_type": "code",
      "source": [
        "# Total count of detractors\n",
        "total_detractors = len(detractors)"
      ],
      "metadata": {
        "id": "gEVknkZuDZ0X"
      },
      "execution_count": 29,
      "outputs": []
    },
    {
      "cell_type": "code",
      "source": [
        "print(total_detractors)"
      ],
      "metadata": {
        "colab": {
          "base_uri": "https://localhost:8080/"
        },
        "id": "GlHO6Up4E_lH",
        "outputId": "4efe3ade-e229-4d02-c33d-018b45e30524"
      },
      "execution_count": 32,
      "outputs": [
        {
          "output_type": "stream",
          "name": "stdout",
          "text": [
            "332\n"
          ]
        }
      ]
    },
    {
      "cell_type": "code",
      "source": [
        "# Total count of promoters\n",
        "total_promoters = len(promoters)"
      ],
      "metadata": {
        "id": "0rDC-046E3r8"
      },
      "execution_count": 33,
      "outputs": []
    },
    {
      "cell_type": "code",
      "source": [
        "print(total_promoters)"
      ],
      "metadata": {
        "colab": {
          "base_uri": "https://localhost:8080/"
        },
        "id": "N2utaIOOE_8C",
        "outputId": "74305640-c07f-4a8c-c88e-7f04b0fb7fe6"
      },
      "execution_count": 34,
      "outputs": [
        {
          "output_type": "stream",
          "name": "stdout",
          "text": [
            "609\n"
          ]
        }
      ]
    },
    {
      "cell_type": "code",
      "source": [
        "# Total count of passives\n",
        "total_passives = len(passives)"
      ],
      "metadata": {
        "id": "lbzzeyppE3fI"
      },
      "execution_count": 35,
      "outputs": []
    },
    {
      "cell_type": "code",
      "source": [
        "print(total_passives)"
      ],
      "metadata": {
        "colab": {
          "base_uri": "https://localhost:8080/"
        },
        "id": "10aoeN9PFGCZ",
        "outputId": "1e2c9b23-c16d-40ac-f3e4-da7f60965749"
      },
      "execution_count": 36,
      "outputs": [
        {
          "output_type": "stream",
          "name": "stdout",
          "text": [
            "226\n"
          ]
        }
      ]
    },
    {
      "cell_type": "code",
      "source": [
        "# Percentage of detractors\n",
        "detractor_percent = np.round(((total_detractors/total) * 100), 2)"
      ],
      "metadata": {
        "id": "FhiPU4ltOeZM"
      },
      "execution_count": 54,
      "outputs": []
    },
    {
      "cell_type": "code",
      "source": [
        "print(detractor_percent)"
      ],
      "metadata": {
        "colab": {
          "base_uri": "https://localhost:8080/"
        },
        "id": "T9IlEfpsPcgX",
        "outputId": "740a7dc0-3616-4858-ad8d-6c7710118d8a"
      },
      "execution_count": 55,
      "outputs": [
        {
          "output_type": "stream",
          "name": "stdout",
          "text": [
            "28.45\n"
          ]
        }
      ]
    },
    {
      "cell_type": "code",
      "source": [
        "# Percentage of promoters\n",
        "promoters_percent = np.round(((total_promoters/total) * 100), 2)"
      ],
      "metadata": {
        "id": "bFb3sHTDPd1z"
      },
      "execution_count": 56,
      "outputs": []
    },
    {
      "cell_type": "code",
      "source": [
        "print(promoters_percent)"
      ],
      "metadata": {
        "colab": {
          "base_uri": "https://localhost:8080/"
        },
        "id": "Ppm55GOIPdx5",
        "outputId": "db0ea05d-61e9-4869-f18f-0d0cd2761441"
      },
      "execution_count": 57,
      "outputs": [
        {
          "output_type": "stream",
          "name": "stdout",
          "text": [
            "52.19\n"
          ]
        }
      ]
    },
    {
      "cell_type": "code",
      "source": [
        "# Percentage of passives\n",
        "passives_percent = np.round(((total_passives/total) * 100), 2)"
      ],
      "metadata": {
        "id": "QezunYw4PdlK"
      },
      "execution_count": 58,
      "outputs": []
    },
    {
      "cell_type": "code",
      "source": [
        "print(passives_percent)"
      ],
      "metadata": {
        "colab": {
          "base_uri": "https://localhost:8080/"
        },
        "id": "zglJT5_uPdfJ",
        "outputId": "a4be1369-e814-4d7a-ddf9-f71ead5fad1e"
      },
      "execution_count": 59,
      "outputs": [
        {
          "output_type": "stream",
          "name": "stdout",
          "text": [
            "19.37\n"
          ]
        }
      ]
    },
    {
      "cell_type": "code",
      "source": [
        "# NPS is percentage of promoters minus percentage of detractors\n",
        "nps = promoters_percent - detractor_percent"
      ],
      "metadata": {
        "id": "PqMQx-pYQSyY"
      },
      "execution_count": 60,
      "outputs": []
    },
    {
      "cell_type": "code",
      "source": [
        "print(f\"Net Promoter Score for the dataset is {nps}\")"
      ],
      "metadata": {
        "colab": {
          "base_uri": "https://localhost:8080/"
        },
        "id": "Ad-_4crjQm7u",
        "outputId": "20df1e01-adbb-41fa-c58c-3dceedbc1d0e"
      },
      "execution_count": 65,
      "outputs": [
        {
          "output_type": "stream",
          "name": "stdout",
          "text": [
            "Net Promoter Score for the dataset is 23.74\n"
          ]
        }
      ]
    }
  ]
}